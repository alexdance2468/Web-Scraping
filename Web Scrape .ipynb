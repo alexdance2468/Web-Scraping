{
 "cells": [
  {
   "cell_type": "markdown",
   "metadata": {
    "colab_type": "text",
    "id": "8j6-MfKHMk4Y"
   },
   "source": [
    "# Web Scraping (using BeautifulSoup) by Alex Dance\n"
   ]
  },
  {
   "cell_type": "markdown",
   "metadata": {
    "colab_type": "text",
    "id": "l6UcvsYfMk4f"
   },
   "source": [
    "## Find a Page\n",
    " Using  [Fandom](http://fandom.wikia.com) "
   ]
  },
  {
   "cell_type": "code",
   "execution_count": 1,
   "metadata": {
    "colab": {},
    "colab_type": "code",
    "id": "nYkrA5JuMk4m"
   },
   "outputs": [],
   "source": [
    "## Import Libraries\n",
    "import regex as re\n",
    "from urllib.parse import unquote\n",
    "import urllib3\n",
    "from bs4 import BeautifulSoup"
   ]
  },
  {
   "cell_type": "markdown",
   "metadata": {},
   "source": [
    "# Research\n",
    "*  https://stackoverflow.com/questions/46490626/getting-all-links-from-a-page-beautiful-soup/46490657"
   ]
  },
  {
   "cell_type": "code",
   "execution_count": 2,
   "metadata": {},
   "outputs": [],
   "source": [
    "page =  'https://billieeilish.fandom.com/wiki/Billie_Eilish_Wiki'"
   ]
  },
  {
   "cell_type": "code",
   "execution_count": 3,
   "metadata": {},
   "outputs": [
    {
     "name": "stdout",
     "output_type": "stream",
     "text": [
      "Type of the variable 'page': bytes\n",
      "Page Retrieved. Request Status: 200, Page Size: 194858\n"
     ]
    }
   ],
   "source": [
    "# query the website and return the html to the variable ‘page’\n",
    "http = urllib3.PoolManager()\n",
    "r = http.request('GET', page)\n",
    "if r.status == 200:\n",
    "    page = r.data\n",
    "    print('Type of the variable \\'page\\':', page.__class__.__name__)\n",
    "    print('Page Retrieved. Request Status: %d, Page Size: %d' % (r.status, len(page)))\n",
    "else:\n",
    "    print('Some problem occurred. Request Status: %s' % r.status)"
   ]
  },
  {
   "cell_type": "code",
   "execution_count": 4,
   "metadata": {},
   "outputs": [
    {
     "name": "stdout",
     "output_type": "stream",
     "text": [
      "Type of the variable 'soup': BeautifulSoup\n"
     ]
    }
   ],
   "source": [
    "# parse the html using beautiful soup and store in variable `soup`\n",
    "soup = BeautifulSoup(page, 'html.parser')\n",
    "print('Type of the variable \\'soup\\':', soup.__class__.__name__)"
   ]
  },
  {
   "cell_type": "code",
   "execution_count": 5,
   "metadata": {},
   "outputs": [
    {
     "name": "stdout",
     "output_type": "stream",
     "text": [
      "ee3002f200f50\",\"wgCSPNonce\":false,\"wgCanonicalNamespace\":\"\",\"wgCanonicalSpecialPageName\":false,\"wgNamespaceNumber\":0,\"wgPageName\":\"Billie_Eilish_Wiki\",\"wgTitle\":\"Billie Eilish Wiki\",\"wgCurRevisionId\":17195,\"wgRevisionId\":17195,\"wgArticleId\":2,\"wgIsArticle\":true,\"wgIsRedirect\":false,\"wgAction\":\"view\"\n"
     ]
    }
   ],
   "source": [
    "print(soup.prettify()[500:800])"
   ]
  },
  {
   "cell_type": "code",
   "execution_count": 6,
   "metadata": {},
   "outputs": [
    {
     "name": "stdout",
     "output_type": "stream",
     "text": [
      "Title tag :<title>Billie Eilish Wiki | Fandom</title>:\n",
      "Title text:Billie Eilish Wiki | Fandom:\n"
     ]
    }
   ],
   "source": [
    "print('Title tag :%s:' % soup.title)\n",
    "print('Title text:%s:' % soup.title.string)"
   ]
  },
  {
   "cell_type": "code",
   "execution_count": 7,
   "metadata": {},
   "outputs": [],
   "source": [
    "tags = soup.find_all(id = True, href = True) "
   ]
  },
  {
   "cell_type": "code",
   "execution_count": 8,
   "metadata": {},
   "outputs": [
    {
     "name": "stdout",
     "output_type": "stream",
     "text": [
      "[<a class=\"wds-button wds-is-full-width global-navigation__register-link\" data-tracking-label=\"account.register\" href=\"https://auth.fandom.com/register?source=mw&amp;redirect=https%3A%2F%2Fbillieeilish.fandom.com%2Fwiki%2FBillie_Eilish_Wiki\" id=\"global-navigation-register-link\" rel=\"nofollow\">\n",
      "\tRegister</a>, <a aria-label=\"Sign In\" class=\"wds-button wds-is-full-width wds-is-secondary global-navigation__signin-link\" data-tracking-label=\"account.sign-in\" href=\"https://auth.fandom.com/signin?source=mw&amp;redirect=https%3A%2F%2Fbillieeilish.fandom.com%2Fwiki%2FBillie_Eilish_Wiki\" id=\"global-navigation-sign-in-link\" rel=\"nofollow\">\n",
      "\tSign In</a>, <a aria-label=\"Sign In\" class=\"wds-button wds-is-secondary global__signin-link\" data-tracking-label=\"account.sign-in\" href=\"https://auth.fandom.com/signin?source=mw&amp;redirect=https%3A%2F%2Fbillieeilish.fandom.com%2Fwiki%2FBillie_Eilish_Wiki\" id=\"global-sign-in-link\" rel=\"nofollow\">\n",
      "\t\t\tSign In\t\t</a>, <a class=\"wds-button global__register-link\" data-tracking-label=\"account.register\" href=\"https://auth.fandom.com/register?source=mw&amp;redirect=https%3A%2F%2Fbillieeilish.fandom.com%2Fwiki%2FBillie_Eilish_Wiki\" id=\"global-register-link\" rel=\"nofollow\">\n",
      "<svg class=\"wds-icon wds-icon-small\"><use xlink:href=\"#wds-icons-avatar\"></use></svg>\t\t\tRegister\t\t</a>, <a aria-label=\"View source\" class=\"page-side-tool page-side-edit\" data-tracking-label=\"ca-viewsource-side-tool\" data-wds-tooltip=\"View source\" data-wds-tooltip-position=\"right\" href=\"/wiki/Billie_Eilish_Wiki?action=edit\" id=\"ca-viewsource-side-tool\">\n",
      "<svg class=\"wds-icon wds-icon-small\"><use xlink:href=\"#wds-icons-lock-small\"></use></svg> </a>, <a accesskey=\"e\" class=\"wds-button wds-is-text page-header__action-button has-label\" data-tracking-label=\"ca-viewsource\" href=\"/wiki/Billie_Eilish_Wiki?action=edit\" id=\"ca-viewsource\">\n",
      "<svg class=\"wds-icon wds-icon-small\"><use xlink:href=\"#wds-icons-lock-small\"></use></svg>\t\t\t\t\t\tView source\t\t\t\t\t</a>, <a accesskey=\"h\" data-tracking-label=\"ca-history-dropdown\" href=\"/wiki/Billie_Eilish_Wiki?action=history\" id=\"ca-history\">\n",
      "\t\t\t\t\t\t\t\t\t\t\tView history\t\t\t\t\t\t\t\t\t\t</a>, <a accesskey=\"t\" class=\"new\" data-tracking-label=\"ca-talk-dropdown\" href=\"/wiki/Talk:Billie_Eilish_Wiki?action=edit&amp;redlink=1\" id=\"ca-talk\">\n",
      "\t\t\t\t\t\t\t\t\t\t\tTalk (0)\t\t\t\t\t\t\t\t\t\t</a>]\n"
     ]
    }
   ],
   "source": [
    "print(tags)"
   ]
  },
  {
   "cell_type": "markdown",
   "metadata": {
    "colab_type": "text",
    "id": "Gdf3no5jMk41"
   },
   "source": [
    "### Links in the text"
   ]
  },
  {
   "cell_type": "code",
   "execution_count": 9,
   "metadata": {},
   "outputs": [],
   "source": [
    "links = soup.find_all('a', href=True)"
   ]
  },
  {
   "cell_type": "code",
   "execution_count": 10,
   "metadata": {},
   "outputs": [
    {
     "data": {
      "text/plain": [
       "bs4.element.ResultSet"
      ]
     },
     "execution_count": 10,
     "metadata": {},
     "output_type": "execute_result"
    }
   ],
   "source": [
    "type(links)"
   ]
  },
  {
   "cell_type": "code",
   "execution_count": 11,
   "metadata": {},
   "outputs": [],
   "source": [
    "#print(links)"
   ]
  },
  {
   "cell_type": "code",
   "execution_count": 12,
   "metadata": {},
   "outputs": [
    {
     "name": "stdout",
     "output_type": "stream",
     "text": [
      "https://billieeilish.fandom.com/wiki/About\n",
      "https://billieeilish.fandom.com/wiki/WHEN_WE_ALL_FALL_ASLEEP,_WHERE_DO_WE_GO%3F\n",
      "https://billieeilish.fandom.com/wiki/Lovely\n",
      "https://billieeilish.fandom.com/wiki/If_You_Want_Me\n",
      "https://billieeilish.fandom.com/wiki/List_of_Unreleased_Songs\n",
      "https://billieeilish.fandom.com/wiki/Bureaucrats\n",
      "https://www.fandom.com/\n",
      "//createnewwiki.fandom.com/Special:CreateNewWiki\n",
      "#\n",
      "https://billieeilish.fandom.com/wiki/Billie_Eilish/Hair_Colors\n",
      "https://billieeilish.fandom.com/wiki/Don%27t_Smile_at_Me\n",
      "https://billieeilish.fandom.com/wiki/Your_Power\n",
      "https://billieeilish.fandom.com/wiki/6.18.18\n",
      "https://billieeilish.fandom.com/wiki/Where%27s_My_Mind_Tour\n",
      "https://billieeilish.fandom.com/wiki/User:URRRO\n",
      "/wiki/Special:ListAdmins\n",
      "/wiki/Bellyache\n",
      "/wiki/When_the_Party%27s_Over\n",
      "/wiki/Therefore_I_Am\n",
      "https://harrystyles.fandom.com/wiki/Harry_Styles_Wikia\n",
      "/wiki/Special:Categories\n",
      "https://www.muthead.com/\n",
      "https://www.fandom.com/careers\n",
      "https://www.fandom.com/do-not-sell-my-info\n"
     ]
    }
   ],
   "source": [
    "dum = 1\n",
    "for link in soup.find_all('a', href=True):\n",
    "    dum = dum+1\n",
    "    #print (dum)\n",
    "    if (dum % 10 == 0) :\n",
    "        print(link['href'])"
   ]
  },
  {
   "cell_type": "code",
   "execution_count": 13,
   "metadata": {},
   "outputs": [
    {
     "name": "stdout",
     "output_type": "stream",
     "text": [
      "<a data-tracking=\"explore-main-page\" href=\"https://billieeilish.fandom.com/wiki/Billie_Eilish_Wiki\">\n",
      "<svg class=\"wds-icon-tiny wds-icon navigation-item-icon\"><use xlink:href=\"#wds-icons-home-tiny\"></use></svg> <span>Main Page</span>\n",
      "</a>\n"
     ]
    }
   ],
   "source": [
    "print(links[2]) # the 2nd link"
   ]
  },
  {
   "cell_type": "code",
   "execution_count": 14,
   "metadata": {},
   "outputs": [
    {
     "name": "stdout",
     "output_type": "stream",
     "text": [
      "#\n"
     ]
    }
   ],
   "source": [
    "print(link['href'])"
   ]
  },
  {
   "cell_type": "code",
   "execution_count": 15,
   "metadata": {},
   "outputs": [
    {
     "name": "stdout",
     "output_type": "stream",
     "text": [
      "#\n"
     ]
    }
   ],
   "source": [
    "print(link.get('href'))"
   ]
  },
  {
   "cell_type": "code",
   "execution_count": 16,
   "metadata": {},
   "outputs": [],
   "source": [
    "link = links[2]          # get the first link in the entire page\n",
    "url1  = link['href']      # get value of the href attribute\n",
    "url2  = link.get('href')  # or like this"
   ]
  },
  {
   "cell_type": "code",
   "execution_count": 17,
   "metadata": {},
   "outputs": [
    {
     "name": "stdout",
     "output_type": "stream",
     "text": [
      "https://billieeilish.fandom.com/wiki/Billie_Eilish_Wiki\n"
     ]
    }
   ],
   "source": [
    "print(url1)"
   ]
  },
  {
   "cell_type": "code",
   "execution_count": 18,
   "metadata": {},
   "outputs": [
    {
     "name": "stdout",
     "output_type": "stream",
     "text": [
      "https://billieeilish.fandom.com/wiki/Billie_Eilish_Wiki\n"
     ]
    }
   ],
   "source": [
    "print(url2)"
   ]
  },
  {
   "cell_type": "code",
   "execution_count": 19,
   "metadata": {},
   "outputs": [],
   "source": [
    "#print(links)"
   ]
  },
  {
   "cell_type": "markdown",
   "metadata": {
    "colab_type": "text",
    "id": "2RNySAm5Mk42"
   },
   "source": [
    "### Create a filter for unwanted types of articles"
   ]
  },
  {
   "cell_type": "code",
   "execution_count": 20,
   "metadata": {},
   "outputs": [
    {
     "data": {
      "text/plain": [
       "[<a data-tracking=\"custom-level-2\" href=\"https://billieeilish.fandom.com/wiki/When_We_All_Fall_Asleep,_World_Tour\">\n",
       " <span>When We All Fall Asleep, World Tour</span>\n",
       " </a>,\n",
       " <a data-tracking=\"custom-level-2\" href=\"https://billieeilish.fandom.com/wiki/When_We_All_Fall_Asleep,_World_Tour\">\n",
       " <span>When We All Fall Asleep, World Tour</span>\n",
       " </a>]"
      ]
     },
     "execution_count": 20,
     "metadata": {},
     "output_type": "execute_result"
    }
   ],
   "source": [
    "soup.find_all(href=re.compile(\"sleep\")) # filter for sleep / asleep "
   ]
  },
  {
   "cell_type": "markdown",
   "metadata": {},
   "source": [
    "# Extra dabbling"
   ]
  },
  {
   "cell_type": "code",
   "execution_count": 21,
   "metadata": {},
   "outputs": [
    {
     "name": "stdout",
     "output_type": "stream",
     "text": [
      "200\n"
     ]
    }
   ],
   "source": [
    "print(r.status)"
   ]
  },
  {
   "cell_type": "code",
   "execution_count": 22,
   "metadata": {},
   "outputs": [
    {
     "name": "stdout",
     "output_type": "stream",
     "text": [
      "HTTPHeaderDict({'Connection': 'keep-alive', 'Content-Length': '194858', 'content-type': 'text/html; charset=UTF-8', 'x-content-type-options': 'nosniff', 'content-language': 'en', 'report-to': '{\"group\":\"nel\",\"max_age\":604800,\"include_subdomains\":true,\"endpoints\":[{\"url\":\"https://services.fandom.com/browser-errors/report\"}]}', 'nel': '{\"report_to\":\"nel\",\"max_age\":604800,\"include_subdomains\":true,\"failure_fraction\":0.01}', 'content-security-policy': 'upgrade-insecure-requests', 'content-security-policy-report-only': \"script-src 'unsafe-eval' blob: 'self' https: 'self' data: 'unsafe-inline' 'unsafe-eval' blob: 'unsafe-inline' internal-soap.wikia.com internal-soap.fandom.com internal-soap.wikia.org internal-soap.gamepedia.com www.fandom.com www.wikia.com www.wikia.org www.gamepedia.com; default-src 'self' data: blob: https://images.wikia.com https://static.wikia.nocookie.net https: 'self' data: blob: internal-soap.wikia.com internal-soap.fandom.com internal-soap.wikia.org internal-soap.gamepedia.com www.fandom.com www.wikia.com www.wikia.org www.gamepedia.com; style-src 'self' data: blob: https://images.wikia.com https://static.wikia.nocookie.net https: 'self' data: blob: internal-soap.wikia.com internal-soap.fandom.com internal-soap.wikia.org internal-soap.gamepedia.com www.fandom.com www.wikia.com www.wikia.org www.gamepedia.com 'unsafe-inline'; img-src * data: blob:; object-src 'none'; report-uri https://services.fandom.com/csp-logger/csp/ucp; worker-src 'self' blob:\", 'last-modified': 'Tue, 26 Sep 2023 05:12:51 GMT', 'x-request-id': '3fdcc5358640eda4633ee3002f200f50', 'x-envoy-upstream-service-time': '126', 'X-Datacenter': 'SJC', 'X-Cacheable': 'YES', 'Accept-Ranges': 'bytes', 'Date': 'Wed, 27 Sep 2023 09:50:21 GMT', 'Age': '16650', 'X-Served-By': 'cache-wk-sjc11420-SJC, cache-syd10136-SYD', 'X-Cache': 'HIT, HIT', 'X-Cache-Hits': '1, 1', 'X-Timer': 'S1695808222.709385,VS0,VE3', 'Vary': 'Accept-Encoding, Cookie', 'Set-Cookie': 'wikia_beacon_id=SfC9vBXvfh; domain=.fandom.com; path=/; expires=Mon, 25 Mar 2024 09:50:21 GMT; SameSite=None; Secure;, _b2=1GZhSIyRXH.1695808221709; domain=.fandom.com; path=/; expires=Fri, 26 Sep 2025 09:50:21 GMT; SameSite=None; Secure;, Geo={%22region%22:%22QLD%22%2C%22city%22:%22hamilton%22%2C%22country_name%22:%22australia%22%2C%22country%22:%22AU%22%2C%22continent%22:%22OC%22}; path=/; domain=.fandom.com; SameSite=None; Secure;', 'Cache-Control': 'private, s-maxage=0, max-age=0, must-revalidate'})\n"
     ]
    }
   ],
   "source": [
    "print(r.headers)"
   ]
  },
  {
   "cell_type": "code",
   "execution_count": 23,
   "metadata": {},
   "outputs": [
    {
     "name": "stdout",
     "output_type": "stream",
     "text": [
      "<class 'urllib3.response.HTTPResponse'>\n"
     ]
    }
   ],
   "source": [
    "print(type(r))"
   ]
  },
  {
   "cell_type": "code",
   "execution_count": 24,
   "metadata": {},
   "outputs": [],
   "source": [
    "links = soup.find_all(\"a\")\n",
    "#print(links)\n",
    "#print(\"\\n\")"
   ]
  },
  {
   "cell_type": "code",
   "execution_count": 25,
   "metadata": {},
   "outputs": [
    {
     "name": "stdout",
     "output_type": "stream",
     "text": [
      "<a data-tracking=\"custom-level-1\" href=\"https://billieeilish.fandom.com/wiki/About\">\n",
      "<span>About</span>\n",
      "</a>\n",
      "https://billieeilish.fandom.com/wiki/About\n",
      "<a data-tracking=\"custom-level-1\" href=\"https://billieeilish.fandom.com/wiki/About_Us\">\n",
      "<span>About Us</span>\n",
      "</a>\n",
      "https://billieeilish.fandom.com/wiki/About_Us\n",
      "<a data-tracking=\"custom-level-1\" href=\"https://billieeilish.fandom.com/wiki/About\">\n",
      "<span>About</span>\n",
      "</a>\n",
      "https://billieeilish.fandom.com/wiki/About\n",
      "<a data-tracking=\"custom-level-1\" href=\"https://billieeilish.fandom.com/wiki/About_Us\">\n",
      "<span>About Us</span>\n",
      "</a>\n",
      "https://billieeilish.fandom.com/wiki/About_Us\n",
      "<a aria-label=\"\" class=\"global-footer__link\" data-tracking-label=\"company-overview.about\" href=\"https://www.fandom.com/about\">\n",
      "\t\t\t\t\t\t\t\t\t\t\t\t\tAbout\t\t\t\t\t\t\t\t\t\t\t</a>\n",
      "https://www.fandom.com/about\n"
     ]
    }
   ],
   "source": [
    "for link in links:\n",
    "    if \"About\" in link.text:\n",
    "        print(link)\n",
    "        print(link.attrs['href'])"
   ]
  }
 ],
 "metadata": {
  "colab": {
   "collapsed_sections": [],
   "name": "DSIA Lab-9_2.ipynb",
   "provenance": []
  },
  "kernelspec": {
   "display_name": "Python 3 (ipykernel)",
   "language": "python",
   "name": "python3"
  },
  "language_info": {
   "codemirror_mode": {
    "name": "ipython",
    "version": 3
   },
   "file_extension": ".py",
   "mimetype": "text/x-python",
   "name": "python",
   "nbconvert_exporter": "python",
   "pygments_lexer": "ipython3",
   "version": "3.11.3"
  }
 },
 "nbformat": 4,
 "nbformat_minor": 1
}
